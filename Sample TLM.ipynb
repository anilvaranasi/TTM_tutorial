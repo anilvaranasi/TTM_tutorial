{
 "cells": [
  {
   "cell_type": "code",
   "execution_count": 4,
   "metadata": {},
   "outputs": [
    {
     "name": "stdout",
     "output_type": "stream",
     "text": [
      "fatal: destination path 'tsfm' already exists and is not an empty directory.\n",
      "/home/wsuser/work/tsfm\n",
      "Processing /home/wsuser/work/tsfm\n",
      "  Installing build dependencies ... \u001b[?25ldone\n",
      "\u001b[?25h  Getting requirements to build wheel ... \u001b[?25ldone\n",
      "\u001b[?25h  Preparing metadata (pyproject.toml) ... \u001b[?25ldone\n",
      "\u001b[?25hRequirement already satisfied: scikit-learn in /opt/conda/envs/Python-RT23.1/lib/python3.10/site-packages (1.1.1)\n",
      "Requirement already satisfied: pandas>=2.2.0 in /opt/conda/envs/Python-RT23.1/lib/python3.10/site-packages (2.2.2)\n",
      "Requirement already satisfied: transformers>=4.38.0 in /opt/conda/envs/Python-RT23.1/lib/python3.10/site-packages (from transformers[torch]>=4.38.0) (4.44.2)\n",
      "Requirement already satisfied: datasets in /opt/conda/envs/Python-RT23.1/lib/python3.10/site-packages (2.21.0)\n",
      "Requirement already satisfied: deprecated in /opt/conda/envs/Python-RT23.1/lib/python3.10/site-packages (1.2.13)\n",
      "Requirement already satisfied: urllib3<2,>=1.26.19 in /opt/conda/envs/Python-RT23.1/lib/python3.10/site-packages (1.26.19)\n",
      "Requirement already satisfied: numpy<2 in /opt/conda/envs/Python-RT23.1/lib/python3.10/site-packages (1.23.5)\n",
      "Requirement already satisfied: jupyter in /opt/conda/envs/Python-RT23.1/lib/python3.10/site-packages (1)\n",
      "Requirement already satisfied: matplotlib in /opt/conda/envs/Python-RT23.1/lib/python3.10/site-packages (3.7.1)\n",
      "Requirement already satisfied: ipywidgets in /opt/conda/envs/Python-RT23.1/lib/python3.10/site-packages (8.0.4)\n",
      "Requirement already satisfied: plotly in /opt/conda/envs/Python-RT23.1/lib/python3.10/site-packages (5.9.0)\n",
      "Requirement already satisfied: kaleido in /opt/conda/envs/Python-RT23.1/lib/python3.10/site-packages (0.2.1)\n",
      "Requirement already satisfied: tensorboard in /opt/conda/envs/Python-RT23.1/lib/python3.10/site-packages (2.12.2)\n",
      "Requirement already satisfied: scipy>=1.3.2 in /opt/conda/envs/Python-RT23.1/lib/python3.10/site-packages (from scikit-learn) (1.10.1)\n",
      "Requirement already satisfied: joblib>=1.0.0 in /opt/conda/envs/Python-RT23.1/lib/python3.10/site-packages (from scikit-learn) (1.1.1)\n",
      "Requirement already satisfied: threadpoolctl>=2.0.0 in /opt/conda/envs/Python-RT23.1/lib/python3.10/site-packages (from scikit-learn) (2.2.0)\n",
      "Requirement already satisfied: python-dateutil>=2.8.2 in /opt/conda/envs/Python-RT23.1/lib/python3.10/site-packages (from pandas>=2.2.0) (2.8.2)\n",
      "Requirement already satisfied: pytz>=2020.1 in /opt/conda/envs/Python-RT23.1/lib/python3.10/site-packages (from pandas>=2.2.0) (2022.7)\n",
      "Requirement already satisfied: tzdata>=2022.7 in /opt/conda/envs/Python-RT23.1/lib/python3.10/site-packages (from pandas>=2.2.0) (2024.1)\n",
      "Requirement already satisfied: filelock in /opt/conda/envs/Python-RT23.1/lib/python3.10/site-packages (from transformers>=4.38.0->transformers[torch]>=4.38.0) (3.9.0)\n",
      "Requirement already satisfied: huggingface-hub<1.0,>=0.23.2 in /opt/conda/envs/Python-RT23.1/lib/python3.10/site-packages (from transformers>=4.38.0->transformers[torch]>=4.38.0) (0.24.6)\n",
      "Requirement already satisfied: packaging>=20.0 in /opt/conda/envs/Python-RT23.1/lib/python3.10/site-packages (from transformers>=4.38.0->transformers[torch]>=4.38.0) (23.0)\n",
      "Requirement already satisfied: pyyaml>=5.1 in /opt/conda/envs/Python-RT23.1/lib/python3.10/site-packages (from transformers>=4.38.0->transformers[torch]>=4.38.0) (6.0)\n",
      "Requirement already satisfied: regex!=2019.12.17 in /opt/conda/envs/Python-RT23.1/lib/python3.10/site-packages (from transformers>=4.38.0->transformers[torch]>=4.38.0) (2024.7.24)\n",
      "Requirement already satisfied: requests in /opt/conda/envs/Python-RT23.1/lib/python3.10/site-packages (from transformers>=4.38.0->transformers[torch]>=4.38.0) (2.32.3)\n",
      "Requirement already satisfied: safetensors>=0.4.1 in /opt/conda/envs/Python-RT23.1/lib/python3.10/site-packages (from transformers>=4.38.0->transformers[torch]>=4.38.0) (0.4.4)\n",
      "Requirement already satisfied: tokenizers<0.20,>=0.19 in /opt/conda/envs/Python-RT23.1/lib/python3.10/site-packages (from transformers>=4.38.0->transformers[torch]>=4.38.0) (0.19.1)\n",
      "Requirement already satisfied: tqdm>=4.27 in /opt/conda/envs/Python-RT23.1/lib/python3.10/site-packages (from transformers>=4.38.0->transformers[torch]>=4.38.0) (4.66.4)\n",
      "Requirement already satisfied: accelerate>=0.21.0 in /opt/conda/envs/Python-RT23.1/lib/python3.10/site-packages (from transformers[torch]>=4.38.0) (0.34.0)\n",
      "Requirement already satisfied: torch in /opt/conda/envs/Python-RT23.1/lib/python3.10/site-packages (from transformers[torch]>=4.38.0) (2.0.1)\n",
      "Requirement already satisfied: pyarrow>=15.0.0 in /opt/conda/envs/Python-RT23.1/lib/python3.10/site-packages (from datasets) (17.0.0)\n",
      "Requirement already satisfied: dill<0.3.9,>=0.3.0 in /opt/conda/envs/Python-RT23.1/lib/python3.10/site-packages (from datasets) (0.3.8)\n",
      "Requirement already satisfied: xxhash in /opt/conda/envs/Python-RT23.1/lib/python3.10/site-packages (from datasets) (3.5.0)\n",
      "Requirement already satisfied: multiprocess in /opt/conda/envs/Python-RT23.1/lib/python3.10/site-packages (from datasets) (0.70.16)\n",
      "Requirement already satisfied: fsspec<=2024.6.1,>=2023.1.0 in /opt/conda/envs/Python-RT23.1/lib/python3.10/site-packages (from fsspec[http]<=2024.6.1,>=2023.1.0->datasets) (2024.6.1)\n",
      "Requirement already satisfied: aiohttp in /opt/conda/envs/Python-RT23.1/lib/python3.10/site-packages (from datasets) (3.9.5)\n",
      "Requirement already satisfied: wrapt<2,>=1.10 in /opt/conda/envs/Python-RT23.1/lib/python3.10/site-packages (from deprecated) (1.14.1)\n",
      "Requirement already satisfied: ipykernel>=4.5.1 in /opt/conda/envs/Python-RT23.1/lib/python3.10/site-packages (from ipywidgets) (6.19.2)\n",
      "Requirement already satisfied: ipython>=6.1.0 in /opt/conda/envs/Python-RT23.1/lib/python3.10/site-packages (from ipywidgets) (8.12.0)\n",
      "Requirement already satisfied: traitlets>=4.3.1 in /opt/conda/envs/Python-RT23.1/lib/python3.10/site-packages (from ipywidgets) (5.7.1)\n",
      "Requirement already satisfied: widgetsnbextension~=4.0 in /opt/conda/envs/Python-RT23.1/lib/python3.10/site-packages (from ipywidgets) (4.0.5)\n",
      "Requirement already satisfied: jupyterlab-widgets~=3.0 in /opt/conda/envs/Python-RT23.1/lib/python3.10/site-packages (from ipywidgets) (3.0.5)\n",
      "Requirement already satisfied: contourpy>=1.0.1 in /opt/conda/envs/Python-RT23.1/lib/python3.10/site-packages (from matplotlib) (1.0.5)\n",
      "Requirement already satisfied: cycler>=0.10 in /opt/conda/envs/Python-RT23.1/lib/python3.10/site-packages (from matplotlib) (0.11.0)\n",
      "Requirement already satisfied: fonttools>=4.22.0 in /opt/conda/envs/Python-RT23.1/lib/python3.10/site-packages (from matplotlib) (4.51.0)\n",
      "Requirement already satisfied: kiwisolver>=1.0.1 in /opt/conda/envs/Python-RT23.1/lib/python3.10/site-packages (from matplotlib) (1.4.4)\n",
      "Requirement already satisfied: pillow>=6.2.0 in /opt/conda/envs/Python-RT23.1/lib/python3.10/site-packages (from matplotlib) (10.3.0)\n",
      "Requirement already satisfied: pyparsing>=2.3.1 in /opt/conda/envs/Python-RT23.1/lib/python3.10/site-packages (from matplotlib) (3.0.9)\n",
      "Requirement already satisfied: tenacity>=6.2.0 in /opt/conda/envs/Python-RT23.1/lib/python3.10/site-packages (from plotly) (8.0.1)\n",
      "Requirement already satisfied: absl-py>=0.4 in /opt/conda/envs/Python-RT23.1/lib/python3.10/site-packages (from tensorboard) (1.0.0)\n",
      "Requirement already satisfied: grpcio>=1.48.2 in /opt/conda/envs/Python-RT23.1/lib/python3.10/site-packages (from tensorboard) (1.53.2)\n",
      "Requirement already satisfied: google-auth<3,>=1.6.3 in /opt/conda/envs/Python-RT23.1/lib/python3.10/site-packages (from tensorboard) (2.6.0)\n",
      "Requirement already satisfied: google-auth-oauthlib<1.1,>=0.5 in /opt/conda/envs/Python-RT23.1/lib/python3.10/site-packages (from tensorboard) (0.5.2)\n",
      "Requirement already satisfied: markdown>=2.6.8 in /opt/conda/envs/Python-RT23.1/lib/python3.10/site-packages (from tensorboard) (3.3.4)\n",
      "Requirement already satisfied: protobuf>=3.19.6 in /opt/conda/envs/Python-RT23.1/lib/python3.10/site-packages (from tensorboard) (4.21.12)\n",
      "Requirement already satisfied: setuptools>=41.0.0 in /opt/conda/envs/Python-RT23.1/lib/python3.10/site-packages (from tensorboard) (65.6.3)\n",
      "Requirement already satisfied: tensorboard-data-server<0.8.0,>=0.7.0 in /opt/conda/envs/Python-RT23.1/lib/python3.10/site-packages (from tensorboard) (0.7.0)\n",
      "Requirement already satisfied: tensorboard-plugin-wit>=1.6.0 in /opt/conda/envs/Python-RT23.1/lib/python3.10/site-packages (from tensorboard) (1.6.0)\n",
      "Requirement already satisfied: werkzeug>=1.0.1 in /opt/conda/envs/Python-RT23.1/lib/python3.10/site-packages (from tensorboard) (2.3.8)\n",
      "Requirement already satisfied: wheel>=0.26 in /opt/conda/envs/Python-RT23.1/lib/python3.10/site-packages (from tensorboard) (0.38.4)\n",
      "Requirement already satisfied: six in /opt/conda/envs/Python-RT23.1/lib/python3.10/site-packages (from absl-py>=0.4->tensorboard) (1.16.0)\n",
      "Requirement already satisfied: psutil in /opt/conda/envs/Python-RT23.1/lib/python3.10/site-packages (from accelerate>=0.21.0->transformers[torch]>=4.38.0) (5.9.0)\n",
      "Requirement already satisfied: aiosignal>=1.1.2 in /opt/conda/envs/Python-RT23.1/lib/python3.10/site-packages (from aiohttp->datasets) (1.2.0)\n",
      "Requirement already satisfied: attrs>=17.3.0 in /opt/conda/envs/Python-RT23.1/lib/python3.10/site-packages (from aiohttp->datasets) (23.1.0)\n",
      "Requirement already satisfied: frozenlist>=1.1.1 in /opt/conda/envs/Python-RT23.1/lib/python3.10/site-packages (from aiohttp->datasets) (1.3.3)\n",
      "Requirement already satisfied: multidict<7.0,>=4.5 in /opt/conda/envs/Python-RT23.1/lib/python3.10/site-packages (from aiohttp->datasets) (6.0.2)\n",
      "Requirement already satisfied: yarl<2.0,>=1.0 in /opt/conda/envs/Python-RT23.1/lib/python3.10/site-packages (from aiohttp->datasets) (1.8.1)\n",
      "Requirement already satisfied: async-timeout<5.0,>=4.0 in /opt/conda/envs/Python-RT23.1/lib/python3.10/site-packages (from aiohttp->datasets) (4.0.2)\n",
      "Requirement already satisfied: cachetools<6.0,>=2.0.0 in /opt/conda/envs/Python-RT23.1/lib/python3.10/site-packages (from google-auth<3,>=1.6.3->tensorboard) (4.2.2)\n",
      "Requirement already satisfied: pyasn1-modules>=0.2.1 in /opt/conda/envs/Python-RT23.1/lib/python3.10/site-packages (from google-auth<3,>=1.6.3->tensorboard) (0.2.8)\n",
      "Requirement already satisfied: rsa<5,>=3.1.4 in /opt/conda/envs/Python-RT23.1/lib/python3.10/site-packages (from google-auth<3,>=1.6.3->tensorboard) (4.7.2)\n",
      "Requirement already satisfied: requests-oauthlib>=0.7.0 in /opt/conda/envs/Python-RT23.1/lib/python3.10/site-packages (from google-auth-oauthlib<1.1,>=0.5->tensorboard) (1.3.0)\n",
      "Requirement already satisfied: typing-extensions>=3.7.4.3 in /opt/conda/envs/Python-RT23.1/lib/python3.10/site-packages (from huggingface-hub<1.0,>=0.23.2->transformers>=4.38.0->transformers[torch]>=4.38.0) (4.4.0)\n",
      "Requirement already satisfied: comm>=0.1.1 in /opt/conda/envs/Python-RT23.1/lib/python3.10/site-packages (from ipykernel>=4.5.1->ipywidgets) (0.1.2)\n",
      "Requirement already satisfied: debugpy>=1.0 in /opt/conda/envs/Python-RT23.1/lib/python3.10/site-packages (from ipykernel>=4.5.1->ipywidgets) (1.5.1)\n",
      "Requirement already satisfied: jupyter-client>=6.1.12 in /opt/conda/envs/Python-RT23.1/lib/python3.10/site-packages (from ipykernel>=4.5.1->ipywidgets) (8.1.0)\n",
      "Requirement already satisfied: matplotlib-inline>=0.1 in /opt/conda/envs/Python-RT23.1/lib/python3.10/site-packages (from ipykernel>=4.5.1->ipywidgets) (0.1.6)\n",
      "Requirement already satisfied: nest-asyncio in /opt/conda/envs/Python-RT23.1/lib/python3.10/site-packages (from ipykernel>=4.5.1->ipywidgets) (1.5.5)\n",
      "Requirement already satisfied: pyzmq>=17 in /opt/conda/envs/Python-RT23.1/lib/python3.10/site-packages (from ipykernel>=4.5.1->ipywidgets) (23.2.0)\n",
      "Requirement already satisfied: tornado>=6.1 in /opt/conda/envs/Python-RT23.1/lib/python3.10/site-packages (from ipykernel>=4.5.1->ipywidgets) (6.4.1)\n",
      "Requirement already satisfied: backcall in /opt/conda/envs/Python-RT23.1/lib/python3.10/site-packages (from ipython>=6.1.0->ipywidgets) (0.2.0)\n",
      "Requirement already satisfied: decorator in /opt/conda/envs/Python-RT23.1/lib/python3.10/site-packages (from ipython>=6.1.0->ipywidgets) (5.1.1)\n",
      "Requirement already satisfied: jedi>=0.16 in /opt/conda/envs/Python-RT23.1/lib/python3.10/site-packages (from ipython>=6.1.0->ipywidgets) (0.16.54321)\n",
      "Requirement already satisfied: pickleshare in /opt/conda/envs/Python-RT23.1/lib/python3.10/site-packages (from ipython>=6.1.0->ipywidgets) (0.7.5)\n",
      "Requirement already satisfied: prompt-toolkit!=3.0.37,<3.1.0,>=3.0.30 in /opt/conda/envs/Python-RT23.1/lib/python3.10/site-packages (from ipython>=6.1.0->ipywidgets) (3.0.36)\n",
      "Requirement already satisfied: pygments>=2.4.0 in /opt/conda/envs/Python-RT23.1/lib/python3.10/site-packages (from ipython>=6.1.0->ipywidgets) (2.15.1)\n",
      "Requirement already satisfied: stack-data in /opt/conda/envs/Python-RT23.1/lib/python3.10/site-packages (from ipython>=6.1.0->ipywidgets) (0.2.0)\n",
      "Requirement already satisfied: pexpect>4.3 in /opt/conda/envs/Python-RT23.1/lib/python3.10/site-packages (from ipython>=6.1.0->ipywidgets) (4.8.0)\n",
      "Requirement already satisfied: charset-normalizer<4,>=2 in /opt/conda/envs/Python-RT23.1/lib/python3.10/site-packages (from requests->transformers>=4.38.0->transformers[torch]>=4.38.0) (2.0.4)\n",
      "Requirement already satisfied: idna<4,>=2.5 in /opt/conda/envs/Python-RT23.1/lib/python3.10/site-packages (from requests->transformers>=4.38.0->transformers[torch]>=4.38.0) (3.7)\n",
      "Requirement already satisfied: certifi>=2017.4.17 in /opt/conda/envs/Python-RT23.1/lib/python3.10/site-packages (from requests->transformers>=4.38.0->transformers[torch]>=4.38.0) (2024.7.4)\n",
      "Requirement already satisfied: sympy in /opt/conda/envs/Python-RT23.1/lib/python3.10/site-packages (from torch->transformers[torch]>=4.38.0) (1.12)\n",
      "Requirement already satisfied: networkx in /opt/conda/envs/Python-RT23.1/lib/python3.10/site-packages (from torch->transformers[torch]>=4.38.0) (2.8.4)\n",
      "Requirement already satisfied: jinja2 in /opt/conda/envs/Python-RT23.1/lib/python3.10/site-packages (from torch->transformers[torch]>=4.38.0) (3.1.4)\n",
      "Requirement already satisfied: MarkupSafe>=2.1.1 in /opt/conda/envs/Python-RT23.1/lib/python3.10/site-packages (from werkzeug>=1.0.1->tensorboard) (2.1.1)\n",
      "Requirement already satisfied: jupyter-core!=5.0.*,>=4.12 in /opt/conda/envs/Python-RT23.1/lib/python3.10/site-packages (from jupyter-client>=6.1.12->ipykernel>=4.5.1->ipywidgets) (5.3.0)\n",
      "Requirement already satisfied: ptyprocess>=0.5 in /opt/conda/envs/Python-RT23.1/lib/python3.10/site-packages (from pexpect>4.3->ipython>=6.1.0->ipywidgets) (0.7.0)\n",
      "Requirement already satisfied: wcwidth in /opt/conda/envs/Python-RT23.1/lib/python3.10/site-packages (from prompt-toolkit!=3.0.37,<3.1.0,>=3.0.30->ipython>=6.1.0->ipywidgets) (0.2.5)\n",
      "Requirement already satisfied: pyasn1<0.5.0,>=0.4.6 in /opt/conda/envs/Python-RT23.1/lib/python3.10/site-packages (from pyasn1-modules>=0.2.1->google-auth<3,>=1.6.3->tensorboard) (0.4.8)\n",
      "Requirement already satisfied: oauthlib>=3.0.0 in /opt/conda/envs/Python-RT23.1/lib/python3.10/site-packages (from requests-oauthlib>=0.7.0->google-auth-oauthlib<1.1,>=0.5->tensorboard) (3.2.2)\n",
      "Requirement already satisfied: executing in /opt/conda/envs/Python-RT23.1/lib/python3.10/site-packages (from stack-data->ipython>=6.1.0->ipywidgets) (0.8.3)\n",
      "Requirement already satisfied: asttokens in /opt/conda/envs/Python-RT23.1/lib/python3.10/site-packages (from stack-data->ipython>=6.1.0->ipywidgets) (2.0.5)\n",
      "Requirement already satisfied: pure-eval in /opt/conda/envs/Python-RT23.1/lib/python3.10/site-packages (from stack-data->ipython>=6.1.0->ipywidgets) (0.2.2)\n",
      "Requirement already satisfied: mpmath>=0.19 in /opt/conda/envs/Python-RT23.1/lib/python3.10/site-packages (from sympy->torch->transformers[torch]>=4.38.0) (1.3.0)\n",
      "Requirement already satisfied: platformdirs>=2.5 in /opt/conda/envs/Python-RT23.1/lib/python3.10/site-packages (from jupyter-core!=5.0.*,>=4.12->jupyter-client>=6.1.12->ipykernel>=4.5.1->ipywidgets) (2.5.2)\n",
      "Building wheels for collected packages: tsfm_public\n",
      "  Building wheel for tsfm_public (pyproject.toml) ... \u001b[?25ldone\n",
      "\u001b[?25h  Created wheel for tsfm_public: filename=tsfm_public-0.2.9-py3-none-any.whl size=2317360 sha256=8f5be2c3317df36d5bea7ead11fa1cdaa4d600212d5ce09b126d2b80b633a97b\n",
      "  Stored in directory: /tmp/wsuser/pip-ephem-wheel-cache-xaenvvco/wheels/7e/f4/97/d20ca5bd694193823d3c5a98c81a76351b5a26d039df185d2d\n",
      "Successfully built tsfm_public\n",
      "Installing collected packages: tsfm_public\n",
      "  Attempting uninstall: tsfm_public\n",
      "    Found existing installation: tsfm_public 0.2.9\n",
      "    Uninstalling tsfm_public-0.2.9:\n",
      "      Successfully uninstalled tsfm_public-0.2.9\n",
      "Successfully installed tsfm_public-0.2.9\n",
      "/home/wsuser/work\n"
     ]
    }
   ],
   "source": [
    "# Clone the ibm and tsfm\n",
    "! git clone https://github.com/IBM/tsfm.git\n",
    "# Change directory. Move inside the tsfm repo.\n",
    "%cd tsfm\n",
    "# Install the tsfm library and scikit-learn\n",
    "! pip install \".[notebooks]\" scikit-learn\n",
    "%cd ../"
   ]
  },
  {
   "cell_type": "code",
   "execution_count": 7,
   "metadata": {},
   "outputs": [
    {
     "name": "stdout",
     "output_type": "stream",
     "text": [
      "Collecting Bottleneck==1.4.0\n",
      "  Downloading Bottleneck-1.4.0-cp310-cp310-manylinux_2_5_x86_64.manylinux1_x86_64.manylinux_2_17_x86_64.manylinux2014_x86_64.whl.metadata (7.9 kB)\n",
      "Requirement already satisfied: numpy in /opt/conda/envs/Python-RT23.1/lib/python3.10/site-packages (from Bottleneck==1.4.0) (1.23.5)\n",
      "Downloading Bottleneck-1.4.0-cp310-cp310-manylinux_2_5_x86_64.manylinux1_x86_64.manylinux_2_17_x86_64.manylinux2014_x86_64.whl (356 kB)\n",
      "\u001b[2K   \u001b[90m━━━━━━━━━━━━━━━━━━━━━━━━━━━━━━━━━━━━━━━━\u001b[0m \u001b[32m356.2/356.2 kB\u001b[0m \u001b[31m13.1 MB/s\u001b[0m eta \u001b[36m0:00:00\u001b[0m\n",
      "\u001b[?25hInstalling collected packages: Bottleneck\n",
      "  Attempting uninstall: Bottleneck\n",
      "    Found existing installation: Bottleneck 1.3.5\n",
      "    Uninstalling Bottleneck-1.3.5:\n",
      "      Successfully uninstalled Bottleneck-1.3.5\n",
      "Successfully installed Bottleneck-1.4.0\n"
     ]
    }
   ],
   "source": [
    "!pip install Bottleneck==1.4.0"
   ]
  },
  {
   "cell_type": "code",
   "execution_count": 11,
   "metadata": {},
   "outputs": [
    {
     "data": {
      "text/plain": [
       "'/home/wsuser/work'"
      ]
     },
     "execution_count": 11,
     "metadata": {},
     "output_type": "execute_result"
    }
   ],
   "source": [
    "pwd"
   ]
  },
  {
   "cell_type": "code",
   "execution_count": null,
   "metadata": {},
   "outputs": [],
   "source": [
    "cat pollution.csv"
   ]
  },
  {
   "cell_type": "code",
   "execution_count": 58,
   "metadata": {},
   "outputs": [],
   "source": [
    "import os\n",
    "import math\n",
    "import tempfile\n",
    "import torch\n",
    "from torch.optim import AdamW\n",
    "from torch.optim.lr_scheduler import OneCycleLR\n",
    "from transformers import EarlyStoppingCallback, Trainer, TrainingArguments, set_seed\n",
    "import numpy as np\n",
    "import pandas as pd\n",
    "\n",
    "# TSFM libraries\n",
    "from tsfm_public.models.tinytimemixer import TinyTimeMixerForPrediction\n",
    "from tsfm_public.toolkit.callbacks import TrackingCallback"
   ]
  },
  {
   "cell_type": "code",
   "execution_count": 59,
   "metadata": {},
   "outputs": [
    {
     "data": {
      "text/html": [
       "<div>\n",
       "<style scoped>\n",
       "    .dataframe tbody tr th:only-of-type {\n",
       "        vertical-align: middle;\n",
       "    }\n",
       "\n",
       "    .dataframe tbody tr th {\n",
       "        vertical-align: top;\n",
       "    }\n",
       "\n",
       "    .dataframe thead th {\n",
       "        text-align: right;\n",
       "    }\n",
       "</style>\n",
       "<table border=\"1\" class=\"dataframe\">\n",
       "  <thead>\n",
       "    <tr style=\"text-align: right;\">\n",
       "      <th></th>\n",
       "      <th>No</th>\n",
       "      <th>year</th>\n",
       "      <th>month</th>\n",
       "      <th>day</th>\n",
       "      <th>hour</th>\n",
       "      <th>pm2.5</th>\n",
       "      <th>DEWP</th>\n",
       "      <th>TEMP</th>\n",
       "      <th>PRES</th>\n",
       "      <th>cbwd</th>\n",
       "      <th>Iws</th>\n",
       "      <th>Is</th>\n",
       "      <th>Ir</th>\n",
       "    </tr>\n",
       "  </thead>\n",
       "  <tbody>\n",
       "    <tr>\n",
       "      <th>0</th>\n",
       "      <td>1</td>\n",
       "      <td>2010</td>\n",
       "      <td>1</td>\n",
       "      <td>1</td>\n",
       "      <td>0</td>\n",
       "      <td>NaN</td>\n",
       "      <td>-21</td>\n",
       "      <td>-11.0</td>\n",
       "      <td>1021.0</td>\n",
       "      <td>NW</td>\n",
       "      <td>1.79</td>\n",
       "      <td>0</td>\n",
       "      <td>0</td>\n",
       "    </tr>\n",
       "    <tr>\n",
       "      <th>1</th>\n",
       "      <td>2</td>\n",
       "      <td>2010</td>\n",
       "      <td>1</td>\n",
       "      <td>1</td>\n",
       "      <td>1</td>\n",
       "      <td>NaN</td>\n",
       "      <td>-21</td>\n",
       "      <td>-12.0</td>\n",
       "      <td>1020.0</td>\n",
       "      <td>NW</td>\n",
       "      <td>4.92</td>\n",
       "      <td>0</td>\n",
       "      <td>0</td>\n",
       "    </tr>\n",
       "    <tr>\n",
       "      <th>2</th>\n",
       "      <td>3</td>\n",
       "      <td>2010</td>\n",
       "      <td>1</td>\n",
       "      <td>1</td>\n",
       "      <td>2</td>\n",
       "      <td>NaN</td>\n",
       "      <td>-21</td>\n",
       "      <td>-11.0</td>\n",
       "      <td>1019.0</td>\n",
       "      <td>NW</td>\n",
       "      <td>6.71</td>\n",
       "      <td>0</td>\n",
       "      <td>0</td>\n",
       "    </tr>\n",
       "    <tr>\n",
       "      <th>3</th>\n",
       "      <td>4</td>\n",
       "      <td>2010</td>\n",
       "      <td>1</td>\n",
       "      <td>1</td>\n",
       "      <td>3</td>\n",
       "      <td>NaN</td>\n",
       "      <td>-21</td>\n",
       "      <td>-14.0</td>\n",
       "      <td>1019.0</td>\n",
       "      <td>NW</td>\n",
       "      <td>9.84</td>\n",
       "      <td>0</td>\n",
       "      <td>0</td>\n",
       "    </tr>\n",
       "    <tr>\n",
       "      <th>4</th>\n",
       "      <td>5</td>\n",
       "      <td>2010</td>\n",
       "      <td>1</td>\n",
       "      <td>1</td>\n",
       "      <td>4</td>\n",
       "      <td>NaN</td>\n",
       "      <td>-20</td>\n",
       "      <td>-12.0</td>\n",
       "      <td>1018.0</td>\n",
       "      <td>NW</td>\n",
       "      <td>12.97</td>\n",
       "      <td>0</td>\n",
       "      <td>0</td>\n",
       "    </tr>\n",
       "    <tr>\n",
       "      <th>5</th>\n",
       "      <td>6</td>\n",
       "      <td>2010</td>\n",
       "      <td>1</td>\n",
       "      <td>1</td>\n",
       "      <td>5</td>\n",
       "      <td>NaN</td>\n",
       "      <td>-19</td>\n",
       "      <td>-10.0</td>\n",
       "      <td>1017.0</td>\n",
       "      <td>NW</td>\n",
       "      <td>16.10</td>\n",
       "      <td>0</td>\n",
       "      <td>0</td>\n",
       "    </tr>\n",
       "    <tr>\n",
       "      <th>6</th>\n",
       "      <td>7</td>\n",
       "      <td>2010</td>\n",
       "      <td>1</td>\n",
       "      <td>1</td>\n",
       "      <td>6</td>\n",
       "      <td>NaN</td>\n",
       "      <td>-19</td>\n",
       "      <td>-9.0</td>\n",
       "      <td>1017.0</td>\n",
       "      <td>NW</td>\n",
       "      <td>19.23</td>\n",
       "      <td>0</td>\n",
       "      <td>0</td>\n",
       "    </tr>\n",
       "    <tr>\n",
       "      <th>7</th>\n",
       "      <td>8</td>\n",
       "      <td>2010</td>\n",
       "      <td>1</td>\n",
       "      <td>1</td>\n",
       "      <td>7</td>\n",
       "      <td>NaN</td>\n",
       "      <td>-19</td>\n",
       "      <td>-9.0</td>\n",
       "      <td>1017.0</td>\n",
       "      <td>NW</td>\n",
       "      <td>21.02</td>\n",
       "      <td>0</td>\n",
       "      <td>0</td>\n",
       "    </tr>\n",
       "    <tr>\n",
       "      <th>8</th>\n",
       "      <td>9</td>\n",
       "      <td>2010</td>\n",
       "      <td>1</td>\n",
       "      <td>1</td>\n",
       "      <td>8</td>\n",
       "      <td>NaN</td>\n",
       "      <td>-19</td>\n",
       "      <td>-9.0</td>\n",
       "      <td>1017.0</td>\n",
       "      <td>NW</td>\n",
       "      <td>24.15</td>\n",
       "      <td>0</td>\n",
       "      <td>0</td>\n",
       "    </tr>\n",
       "    <tr>\n",
       "      <th>9</th>\n",
       "      <td>10</td>\n",
       "      <td>2010</td>\n",
       "      <td>1</td>\n",
       "      <td>1</td>\n",
       "      <td>9</td>\n",
       "      <td>NaN</td>\n",
       "      <td>-20</td>\n",
       "      <td>-8.0</td>\n",
       "      <td>1017.0</td>\n",
       "      <td>NW</td>\n",
       "      <td>27.28</td>\n",
       "      <td>0</td>\n",
       "      <td>0</td>\n",
       "    </tr>\n",
       "  </tbody>\n",
       "</table>\n",
       "</div>"
      ],
      "text/plain": [
       "   No  year  month  day  hour  pm2.5  DEWP  TEMP    PRES cbwd    Iws  Is  Ir\n",
       "0   1  2010      1    1     0    NaN   -21 -11.0  1021.0   NW   1.79   0   0\n",
       "1   2  2010      1    1     1    NaN   -21 -12.0  1020.0   NW   4.92   0   0\n",
       "2   3  2010      1    1     2    NaN   -21 -11.0  1019.0   NW   6.71   0   0\n",
       "3   4  2010      1    1     3    NaN   -21 -14.0  1019.0   NW   9.84   0   0\n",
       "4   5  2010      1    1     4    NaN   -20 -12.0  1018.0   NW  12.97   0   0\n",
       "5   6  2010      1    1     5    NaN   -19 -10.0  1017.0   NW  16.10   0   0\n",
       "6   7  2010      1    1     6    NaN   -19  -9.0  1017.0   NW  19.23   0   0\n",
       "7   8  2010      1    1     7    NaN   -19  -9.0  1017.0   NW  21.02   0   0\n",
       "8   9  2010      1    1     8    NaN   -19  -9.0  1017.0   NW  24.15   0   0\n",
       "9  10  2010      1    1     9    NaN   -20  -8.0  1017.0   NW  27.28   0   0"
      ]
     },
     "execution_count": 59,
     "metadata": {},
     "output_type": "execute_result"
    }
   ],
   "source": [
    "import os, types\n",
    "import pandas as pd\n",
    "from botocore.client import Config\n",
    "import ibm_boto3\n",
    "\n",
    "def __iter__(self): return 0\n",
    "\n",
    "# @hidden_cell\n",
    "# The following code accesses a file in your IBM Cloud Object Storage. It includes your credentials.\n",
    "# You might want to remove those credentials before you share the notebook.\n",
    "\n",
    "cos_client = ibm_boto3.client(service_name='s3',\n",
    "    ibm_api_key_id='oXTalHLbbI8KI4SPddB-7OWGLqVB0CdJ9fQwomfiBTBA',\n",
    "    ibm_auth_endpoint=\"https://iam.cloud.ibm.com/oidc/token\",\n",
    "    config=Config(signature_version='oauth'),\n",
    "    endpoint_url='https://s3.private.eu-de.cloud-object-storage.appdomain.cloud')\n",
    "\n",
    "bucket = 'qampawithragaccelerator-donotdelete-pr-5sto1uhftsgjmk'\n",
    "object_key = 'pollution.csv'\n",
    "\n",
    "body = cos_client.get_object(Bucket=bucket,Key=object_key)['Body']\n",
    "# add missing __iter__ method, so pandas accepts body as file-like object\n",
    "if not hasattr(body, \"__iter__\"): body.__iter__ = types.MethodType( __iter__, body )\n",
    "\n",
    "df_1 = pd.read_csv(body)\n",
    "df_1.head(10)\n",
    "\n"
   ]
  },
  {
   "cell_type": "code",
   "execution_count": 49,
   "metadata": {},
   "outputs": [],
   "source": [
    "pollution_data = df_1\n",
    "#pollution_data = pd.read_csv(\n",
    " #   \"pollution.csv\"\n",
    "#)\n",
    "\n",
    "timestamp_column = \"date\"\n",
    "target_columns = [\"pm2.5\"]\n",
    "observable_columns = [\"DEWP\",\"TEMP\",\"PRES\", \"Iws\"]\n",
    "\n",
    "pollution_data['date'] = pd.to_datetime(pollution_data[['year','month','day', 'hour']])"
   ]
  },
  {
   "cell_type": "code",
   "execution_count": 50,
   "metadata": {},
   "outputs": [],
   "source": [
    "#deal with NA\n",
    "pollution_data['pm2.5'] = pollution_data['pm2.5'].interpolate()"
   ]
  },
  {
   "cell_type": "code",
   "execution_count": 51,
   "metadata": {},
   "outputs": [
    {
     "data": {
      "text/plain": [
       "<Axes: xlabel='date'>"
      ]
     },
     "execution_count": 51,
     "metadata": {},
     "output_type": "execute_result"
    },
    {
     "data": {
      "image/png": "[encoded data removed]",
      "text/plain": [
       "<Figure size 2000x500 with 1 Axes>"
      ]
     },
     "metadata": {},
     "output_type": "display_data"
    }
   ],
   "source": [
    "pollution_data[:1000].plot(x=\"date\", y=[\"pm2.5\", \"Iws\"], figsize=(20,5))"
   ]
  },
  {
   "cell_type": "code",
   "execution_count": 60,
   "metadata": {},
   "outputs": [],
   "source": [
    "# Set seed for reproducibility\n",
    "import tensorflow\n",
    "\n",
    "SEED = 42\n",
    "tensorflow.random.set_seed(SEED)\n",
    "# Results dir\n",
    "OUT_DIR = \"/home/wsuser/work/ttm_finetuned_models/\"\n",
    "\n",
    "# Forecasting parameters\n",
    "context_length = 512 # TTM can use 512 time points into the past\n",
    "forecast_length = 96 # TTM can predict 96 time points into the future"
   ]
  },
  {
   "cell_type": "code",
   "execution_count": 61,
   "metadata": {},
   "outputs": [],
   "source": [
    "from tsfm_public import (\n",
    "    TimeSeriesPreprocessor,\n",
    "    TinyTimeMixerForPrediction,\n",
    "    TrackingCallback,\n",
    "    count_parameters,\n",
    "    get_datasets,\n",
    ")\n",
    "\n",
    "data_length = len(pollution_data)\n",
    "\n",
    "train_start_index = 0\n",
    "train_end_index = round(data_length * 0.8)\n",
    "\n",
    "# we shift the start of the evaluation period back by context length so that\n",
    "# the first evaluation timestamp is immediately following the training data\n",
    "eval_start_index = round(data_length * 0.8) - context_length\n",
    "eval_end_index = round(data_length * 0.9)\n",
    "\n",
    "test_start_index = round(data_length * 0.9) - context_length\n",
    "test_end_index = data_length\n",
    "\n",
    "split_config = {\n",
    "                \"train\": [0, train_end_index],\n",
    "                \"valid\": [eval_start_index, eval_end_index],\n",
    "                \"test\": [test_start_index,test_end_index],\n",
    "            }"
   ]
  },
  {
   "cell_type": "code",
   "execution_count": 62,
   "metadata": {},
   "outputs": [],
   "source": [
    "column_specifiers = {\n",
    "    \"timestamp_column\": timestamp_column,\n",
    "    \"target_columns\": target_columns,\n",
    "    \"observable_columns\": observable_columns\n",
    "}\n",
    "\n",
    "tsp = TimeSeriesPreprocessor(\n",
    "    **column_specifiers,\n",
    "    context_length=context_length,\n",
    "    prediction_length=forecast_length,\n",
    "    scaling=True,\n",
    "    encode_categorical=True,\n",
    "    scaler_type=\"standard\",\n",
    ")\n",
    "\n",
    "# this gets torch vectors for training. For test eval we need a Pandas DF\n",
    "train_dataset, valid_dataset, test_dataset = get_datasets(\n",
    "    tsp, pollution_data, split_config\n",
    ")"
   ]
  },
  {
   "cell_type": "code",
   "execution_count": 63,
   "metadata": {},
   "outputs": [
    {
     "name": "stdout",
     "output_type": "stream",
     "text": [
      "<tsfm_public.toolkit.dataset.ForecastDFDataset object at 0x7f293094e3b0>\n"
     ]
    }
   ],
   "source": [
    "print (test_dataset)"
   ]
  },
  {
   "cell_type": "code",
   "execution_count": 65,
   "metadata": {},
   "outputs": [
    {
     "name": "stderr",
     "output_type": "stream",
     "text": [
      "WARNING:p-426:t-139817721537536:other.py:check_os_kernel:Detected kernel version 5.4.0, which is below the recommended minimum of 5.5.0; this can cause the process to hang. It is recommended to upgrade the kernel to the minimum version or higher.\n"
     ]
    },
    {
     "name": "stdout",
     "output_type": "stream",
     "text": [
      "TinyTimeMixerForPrediction(\n",
      "  (backbone): TinyTimeMixerModel(\n",
      "    (encoder): TinyTimeMixerEncoder(\n",
      "      (patcher): Linear(in_features=64, out_features=192, bias=True)\n",
      "      (mlp_mixer_encoder): TinyTimeMixerBlock(\n",
      "        (mixers): ModuleList(\n",
      "          (0): TinyTimeMixerAdaptivePatchingBlock(\n",
      "            (mixer_layers): ModuleList(\n",
      "              (0-1): 2 x TinyTimeMixerLayer(\n",
      "                (patch_mixer): PatchMixerBlock(\n",
      "                  (norm): TinyTimeMixerNormLayer(\n",
      "                    (norm): LayerNorm((48,), eps=1e-05, elementwise_affine=True)\n",
      "                  )\n",
      "                  (mlp): TinyTimeMixerMLP(\n",
      "                    (fc1): Linear(in_features=32, out_features=64, bias=True)\n",
      "                    (dropout1): Dropout(p=0.2, inplace=False)\n",
      "                    (fc2): Linear(in_features=64, out_features=32, bias=True)\n",
      "                    (dropout2): Dropout(p=0.2, inplace=False)\n",
      "                  )\n",
      "                  (gating_block): TinyTimeMixerGatedAttention(\n",
      "                    (attn_layer): Linear(in_features=32, out_features=32, bias=True)\n",
      "                    (attn_softmax): Softmax(dim=-1)\n",
      "                  )\n",
      "                )\n",
      "                (feature_mixer): FeatureMixerBlock(\n",
      "                  (norm): TinyTimeMixerNormLayer(\n",
      "                    (norm): LayerNorm((48,), eps=1e-05, elementwise_affine=True)\n",
      "                  )\n",
      "                  (mlp): TinyTimeMixerMLP(\n",
      "                    (fc1): Linear(in_features=48, out_features=96, bias=True)\n",
      "                    (dropout1): Dropout(p=0.2, inplace=False)\n",
      "                    (fc2): Linear(in_features=96, out_features=48, bias=True)\n",
      "                    (dropout2): Dropout(p=0.2, inplace=False)\n",
      "                  )\n",
      "                  (gating_block): TinyTimeMixerGatedAttention(\n",
      "                    (attn_layer): Linear(in_features=48, out_features=48, bias=True)\n",
      "                    (attn_softmax): Softmax(dim=-1)\n",
      "                  )\n",
      "                )\n",
      "              )\n",
      "            )\n",
      "          )\n",
      "          (1): TinyTimeMixerAdaptivePatchingBlock(\n",
      "            (mixer_layers): ModuleList(\n",
      "              (0-1): 2 x TinyTimeMixerLayer(\n",
      "                (patch_mixer): PatchMixerBlock(\n",
      "                  (norm): TinyTimeMixerNormLayer(\n",
      "                    (norm): LayerNorm((96,), eps=1e-05, elementwise_affine=True)\n",
      "                  )\n",
      "                  (mlp): TinyTimeMixerMLP(\n",
      "                    (fc1): Linear(in_features=16, out_features=32, bias=True)\n",
      "                    (dropout1): Dropout(p=0.2, inplace=False)\n",
      "                    (fc2): Linear(in_features=32, out_features=16, bias=True)\n",
      "                    (dropout2): Dropout(p=0.2, inplace=False)\n",
      "                  )\n",
      "                  (gating_block): TinyTimeMixerGatedAttention(\n",
      "                    (attn_layer): Linear(in_features=16, out_features=16, bias=True)\n",
      "                    (attn_softmax): Softmax(dim=-1)\n",
      "                  )\n",
      "                )\n",
      "                (feature_mixer): FeatureMixerBlock(\n",
      "                  (norm): TinyTimeMixerNormLayer(\n",
      "                    (norm): LayerNorm((96,), eps=1e-05, elementwise_affine=True)\n",
      "                  )\n",
      "                  (mlp): TinyTimeMixerMLP(\n",
      "                    (fc1): Linear(in_features=96, out_features=192, bias=True)\n",
      "                    (dropout1): Dropout(p=0.2, inplace=False)\n",
      "                    (fc2): Linear(in_features=192, out_features=96, bias=True)\n",
      "                    (dropout2): Dropout(p=0.2, inplace=False)\n",
      "                  )\n",
      "                  (gating_block): TinyTimeMixerGatedAttention(\n",
      "                    (attn_layer): Linear(in_features=96, out_features=96, bias=True)\n",
      "                    (attn_softmax): Softmax(dim=-1)\n",
      "                  )\n",
      "                )\n",
      "              )\n",
      "            )\n",
      "          )\n",
      "          (2): TinyTimeMixerAdaptivePatchingBlock(\n",
      "            (mixer_layers): ModuleList(\n",
      "              (0-1): 2 x TinyTimeMixerLayer(\n",
      "                (patch_mixer): PatchMixerBlock(\n",
      "                  (norm): TinyTimeMixerNormLayer(\n",
      "                    (norm): LayerNorm((192,), eps=1e-05, elementwise_affine=True)\n",
      "                  )\n",
      "                  (mlp): TinyTimeMixerMLP(\n",
      "                    (fc1): Linear(in_features=8, out_features=16, bias=True)\n",
      "                    (dropout1): Dropout(p=0.2, inplace=False)\n",
      "                    (fc2): Linear(in_features=16, out_features=8, bias=True)\n",
      "                    (dropout2): Dropout(p=0.2, inplace=False)\n",
      "                  )\n",
      "                  (gating_block): TinyTimeMixerGatedAttention(\n",
      "                    (attn_layer): Linear(in_features=8, out_features=8, bias=True)\n",
      "                    (attn_softmax): Softmax(dim=-1)\n",
      "                  )\n",
      "                )\n",
      "                (feature_mixer): FeatureMixerBlock(\n",
      "                  (norm): TinyTimeMixerNormLayer(\n",
      "                    (norm): LayerNorm((192,), eps=1e-05, elementwise_affine=True)\n",
      "                  )\n",
      "                  (mlp): TinyTimeMixerMLP(\n",
      "                    (fc1): Linear(in_features=192, out_features=384, bias=True)\n",
      "                    (dropout1): Dropout(p=0.2, inplace=False)\n",
      "                    (fc2): Linear(in_features=384, out_features=192, bias=True)\n",
      "                    (dropout2): Dropout(p=0.2, inplace=False)\n",
      "                  )\n",
      "                  (gating_block): TinyTimeMixerGatedAttention(\n",
      "                    (attn_layer): Linear(in_features=192, out_features=192, bias=True)\n",
      "                    (attn_softmax): Softmax(dim=-1)\n",
      "                  )\n",
      "                )\n",
      "              )\n",
      "            )\n",
      "          )\n",
      "        )\n",
      "      )\n",
      "    )\n",
      "    (patching): TinyTimeMixerPatchify()\n",
      "    (scaler): TinyTimeMixerStdScaler()\n",
      "  )\n",
      "  (decoder): TinyTimeMixerDecoder(\n",
      "    (adapter): Linear(in_features=192, out_features=128, bias=True)\n",
      "    (decoder_block): TinyTimeMixerBlock(\n",
      "      (mixers): ModuleList(\n",
      "        (0-1): 2 x TinyTimeMixerLayer(\n",
      "          (patch_mixer): PatchMixerBlock(\n",
      "            (norm): TinyTimeMixerNormLayer(\n",
      "              (norm): LayerNorm((128,), eps=1e-05, elementwise_affine=True)\n",
      "            )\n",
      "            (mlp): TinyTimeMixerMLP(\n",
      "              (fc1): Linear(in_features=8, out_features=16, bias=True)\n",
      "              (dropout1): Dropout(p=0.2, inplace=False)\n",
      "              (fc2): Linear(in_features=16, out_features=8, bias=True)\n",
      "              (dropout2): Dropout(p=0.2, inplace=False)\n",
      "            )\n",
      "            (gating_block): TinyTimeMixerGatedAttention(\n",
      "              (attn_layer): Linear(in_features=8, out_features=8, bias=True)\n",
      "              (attn_softmax): Softmax(dim=-1)\n",
      "            )\n",
      "          )\n",
      "          (feature_mixer): FeatureMixerBlock(\n",
      "            (norm): TinyTimeMixerNormLayer(\n",
      "              (norm): LayerNorm((128,), eps=1e-05, elementwise_affine=True)\n",
      "            )\n",
      "            (mlp): TinyTimeMixerMLP(\n",
      "              (fc1): Linear(in_features=128, out_features=256, bias=True)\n",
      "              (dropout1): Dropout(p=0.2, inplace=False)\n",
      "              (fc2): Linear(in_features=256, out_features=128, bias=True)\n",
      "              (dropout2): Dropout(p=0.2, inplace=False)\n",
      "            )\n",
      "            (gating_block): TinyTimeMixerGatedAttention(\n",
      "              (attn_layer): Linear(in_features=128, out_features=128, bias=True)\n",
      "              (attn_softmax): Softmax(dim=-1)\n",
      "            )\n",
      "          )\n",
      "        )\n",
      "      )\n",
      "    )\n",
      "  )\n",
      "  (head): TinyTimeMixerForPredictionHead(\n",
      "    (dropout_layer): Dropout(p=0.2, inplace=False)\n",
      "    (base_forecast_block): Linear(in_features=1024, out_features=96, bias=True)\n",
      "    (flatten): Flatten(start_dim=-2, end_dim=-1)\n",
      "  )\n",
      ")\n"
     ]
    },
    {
     "data": {
      "text/html": [
       "\n",
       "    <div>\n",
       "      \n",
       "      <progress value='600' max='600' style='width:300px; height:20px; vertical-align: middle;'></progress>\n",
       "      [600/600 00:13]\n",
       "    </div>\n",
       "    "
      ],
      "text/plain": [
       "<IPython.core.display.HTML object>"
      ]
     },
     "metadata": {},
     "output_type": "display_data"
    },
    {
     "data": {
      "text/plain": [
       "{'eval_loss': 0.298653781414032,\n",
       " 'eval_model_preparation_time': 0.0019,\n",
       " 'eval_runtime': 13.2407,\n",
       " 'eval_samples_per_second': 362.443,\n",
       " 'eval_steps_per_second': 45.315}"
      ]
     },
     "execution_count": 65,
     "metadata": {},
     "output_type": "execute_result"
    }
   ],
   "source": [
    "zeroshot_model = TinyTimeMixerForPrediction.from_pretrained(\"ibm/TTM\", revision=\"main\", prediction_filter_length=24)\n",
    "print(zeroshot_model)\n",
    "# zeroshot_trainer\n",
    "zeroshot_trainer = Trainer(\n",
    "    model=zeroshot_model,\n",
    ")\n",
    "\n",
    "zeroshot_trainer.evaluate(test_dataset)  #note that this is the Torch dataset created by get_datasets(), not a Pandas DataFrame"
   ]
  },
  {
   "cell_type": "code",
   "execution_count": 67,
   "metadata": {},
   "outputs": [],
   "source": [
    "column_specifiers = {\n",
    "    \"timestamp_column\": timestamp_column,\n",
    "    \"target_columns\": target_columns,\n",
    "    \"observable_columns\": observable_columns\n",
    "}\n",
    "\n",
    "tsp = TimeSeriesPreprocessor(\n",
    "    **column_specifiers,\n",
    "    context_length=context_length,\n",
    "    prediction_length=forecast_length,\n",
    "    scaling=True,\n",
    "    encode_categorical=True,\n",
    "    scaler_type=\"standard\",\n",
    ")\n",
    "\n",
    "# this gets torch vectors for training. For test eval we need a Pandas DF\n",
    "train_dataset, valid_dataset, test_dataset = get_datasets(\n",
    "    tsp, pollution_data, split_config\n",
    ")"
   ]
  },
  {
   "cell_type": "code",
   "execution_count": 68,
   "metadata": {},
   "outputs": [
    {
     "name": "stderr",
     "output_type": "stream",
     "text": [
      "WARNING:p-426:t-139817721537536:other.py:check_os_kernel:Detected kernel version 5.4.0, which is below the recommended minimum of 5.5.0; this can cause the process to hang. It is recommended to upgrade the kernel to the minimum version or higher.\n"
     ]
    },
    {
     "data": {
      "text/html": [
       "\n",
       "    <div>\n",
       "      \n",
       "      <progress value='600' max='600' style='width:300px; height:20px; vertical-align: middle;'></progress>\n",
       "      [600/600 00:13]\n",
       "    </div>\n",
       "    "
      ],
      "text/plain": [
       "<IPython.core.display.HTML object>"
      ]
     },
     "metadata": {},
     "output_type": "display_data"
    },
    {
     "data": {
      "text/plain": [
       "{'eval_loss': 0.298653781414032,\n",
       " 'eval_model_preparation_time': 0.002,\n",
       " 'eval_runtime': 13.289,\n",
       " 'eval_samples_per_second': 361.125,\n",
       " 'eval_steps_per_second': 45.15}"
      ]
     },
     "execution_count": 68,
     "metadata": {},
     "output_type": "execute_result"
    }
   ],
   "source": [
    "zeroshot_model = TinyTimeMixerForPrediction.from_pretrained(\"ibm/TTM\", revision=\"main\", prediction_filter_length=24)\n",
    "\n",
    "# zeroshot_trainer\n",
    "zeroshot_trainer = Trainer(\n",
    "    model=zeroshot_model,\n",
    ")\n",
    "\n",
    "zeroshot_trainer.evaluate(test_dataset)  #note that this is the Torch dataset created by get_datasets(), not a Pandas DataFrame"
   ]
  },
  {
   "cell_type": "code",
   "execution_count": 69,
   "metadata": {},
   "outputs": [
    {
     "data": {
      "text/plain": [
       "{'eval_loss': 0.425916463136673,\n",
       " 'eval_runtime': 24.225,\n",
       " 'eval_samples_per_second': 198.019,\n",
       " 'eval_steps_per_second': 24.768}"
      ]
     },
     "execution_count": 69,
     "metadata": {},
     "output_type": "execute_result"
    }
   ],
   "source": [
    "{'eval_loss': 0.425916463136673,\n",
    " 'eval_runtime': 24.225,\n",
    " 'eval_samples_per_second': 198.019,\n",
    " 'eval_steps_per_second': 24.768}"
   ]
  },
  {
   "cell_type": "code",
   "execution_count": 70,
   "metadata": {},
   "outputs": [],
   "source": [
    "from tsfm_public.toolkit.util import select_by_index\n",
    "from tsfm_public.toolkit.time_series_forecasting_pipeline import TimeSeriesForecastingPipeline\n",
    "from tsfm_public.toolkit.visualization import plot_ts_forecasting\n",
    "\n",
    "zs_forecast_pipeline = TimeSeriesForecastingPipeline(\n",
    "    model=zeroshot_model,\n",
    "    device=\"cpu\",\n",
    "    timestamp_column=timestamp_column,\n",
    "    id_columns=[],\n",
    "    target_columns=target_columns,\n",
    "    freq=\"1h\"\n",
    ")"
   ]
  },
  {
   "cell_type": "code",
   "execution_count": 71,
   "metadata": {},
   "outputs": [],
   "source": [
    "zs_forecast = zs_forecast_pipeline(tsp.preprocess(pollution_data[test_start_index:test_end_index]))"
   ]
  },
  {
   "cell_type": "code",
   "execution_count": 72,
   "metadata": {},
   "outputs": [
    {
     "data": {
      "text/plain": [
       "<Axes: >"
      ]
     },
     "execution_count": 72,
     "metadata": {},
     "output_type": "execute_result"
    },
    {
     "data": {
      "image/png": "[encoded data removed]",
      "text/plain": [
       "<Figure size 640x480 with 1 Axes>"
      ]
     },
     "metadata": {},
     "output_type": "display_data"
    }
   ],
   "source": [
    "fcast_df = pd.DataFrame({\"pred\":zs_forecast.loc[50]['pm2.5_prediction'], \"actual\":zs_forecast.loc[50]['pm2.5'][:24]})\n",
    "fcast_df.plot()"
   ]
  },
  {
   "cell_type": "code",
   "execution_count": 75,
   "metadata": {},
   "outputs": [],
   "source": [
    "def compare_forecast(forecast, date_col, prediction_col, actual_col, hours_out):\n",
    "  comparisons = pd.DataFrame()\n",
    "  comparisons[date_col] = forecast[date_col]\n",
    "  actual = []\n",
    "  pred = []\n",
    "\n",
    "  for i in range(len(forecast)):\n",
    "    pred.append(forecast[prediction_col].values[i][hours_out - 1]) # prediction for next day\n",
    "    actual.append(forecast[actual_col].values[i][hours_out - 1])\n",
    "\n",
    "  comparisons['actual'] = actual\n",
    "  comparisons['pred'] = pred\n",
    "\n",
    "  return comparisons"
   ]
  },
  {
   "cell_type": "code",
   "execution_count": 78,
   "metadata": {},
   "outputs": [
    {
     "name": "stdout",
     "output_type": "stream",
     "text": [
      "                    date    actual      pred\n",
      "0    2014-07-02 09:00:00  0.173654 -0.403948\n",
      "1    2014-07-02 10:00:00  0.029593 -0.473354\n",
      "2    2014-07-02 11:00:00  0.140409 -0.432063\n",
      "3    2014-07-02 12:00:00  0.129327 -0.414977\n",
      "4    2014-07-02 13:00:00  0.395286 -0.320205\n",
      "...                  ...       ...       ...\n",
      "4378 2014-12-31 19:00:00       NaN -0.823805\n",
      "4379 2014-12-31 20:00:00       NaN -0.858429\n",
      "4380 2014-12-31 21:00:00       NaN -0.863322\n",
      "4381 2014-12-31 22:00:00       NaN -0.892325\n",
      "4382 2014-12-31 23:00:00       NaN -0.904466\n",
      "\n",
      "[4383 rows x 3 columns]\n"
     ]
    },
    {
     "ename": "ValueError",
     "evalue": "Input contains NaN.",
     "output_type": "error",
     "traceback": [
      "\u001b[0;31m---------------------------------------------------------------------------\u001b[0m",
      "\u001b[0;31mValueError\u001b[0m                                Traceback (most recent call last)",
      "Cell \u001b[0;32mIn[78], line 4\u001b[0m\n\u001b[1;32m      2\u001b[0m one_day_out_predictions \u001b[38;5;241m=\u001b[39m compare_forecast(zs_forecast, \u001b[38;5;124m\"\u001b[39m\u001b[38;5;124mdate\u001b[39m\u001b[38;5;124m\"\u001b[39m, \u001b[38;5;124m\"\u001b[39m\u001b[38;5;124mpm2.5_prediction\u001b[39m\u001b[38;5;124m\"\u001b[39m, \u001b[38;5;124m\"\u001b[39m\u001b[38;5;124mpm2.5\u001b[39m\u001b[38;5;124m\"\u001b[39m, \u001b[38;5;241m12\u001b[39m)\n\u001b[1;32m      3\u001b[0m \u001b[38;5;28mprint\u001b[39m(one_day_out_predictions)\n\u001b[0;32m----> 4\u001b[0m rms \u001b[38;5;241m=\u001b[39m \u001b[38;5;124m'\u001b[39m\u001b[38;5;132;01m{:.10f}\u001b[39;00m\u001b[38;5;124m'\u001b[39m\u001b[38;5;241m.\u001b[39mformat(\u001b[43msklearn\u001b[49m\u001b[38;5;241;43m.\u001b[39;49m\u001b[43mmetrics\u001b[49m\u001b[38;5;241;43m.\u001b[39;49m\u001b[43mmean_squared_error\u001b[49m\u001b[43m(\u001b[49m\u001b[43mone_day_out_predictions\u001b[49m\u001b[43m[\u001b[49m\u001b[38;5;124;43m'\u001b[39;49m\u001b[38;5;124;43mactual\u001b[39;49m\u001b[38;5;124;43m'\u001b[39;49m\u001b[43m]\u001b[49m\u001b[43m,\u001b[49m\u001b[43m \u001b[49m\u001b[43mone_day_out_predictions\u001b[49m\u001b[43m[\u001b[49m\u001b[38;5;124;43m'\u001b[39;49m\u001b[38;5;124;43mpred\u001b[39;49m\u001b[38;5;124;43m'\u001b[39;49m\u001b[43m]\u001b[49m\u001b[43m,\u001b[49m\u001b[43m \u001b[49m\u001b[43msquared\u001b[49m\u001b[38;5;241;43m=\u001b[39;49m\u001b[38;5;28;43;01mFalse\u001b[39;49;00m\u001b[43m)\u001b[49m)\n\u001b[1;32m      5\u001b[0m one_day_out_predictions\u001b[38;5;241m.\u001b[39mplot(x\u001b[38;5;241m=\u001b[39m\u001b[38;5;124m\"\u001b[39m\u001b[38;5;124mdate\u001b[39m\u001b[38;5;124m\"\u001b[39m, y\u001b[38;5;241m=\u001b[39m[\u001b[38;5;124m\"\u001b[39m\u001b[38;5;124mpred\u001b[39m\u001b[38;5;124m\"\u001b[39m, \u001b[38;5;124m\"\u001b[39m\u001b[38;5;124mactual\u001b[39m\u001b[38;5;124m\"\u001b[39m], figsize\u001b[38;5;241m=\u001b[39m(\u001b[38;5;241m20\u001b[39m,\u001b[38;5;241m5\u001b[39m), title\u001b[38;5;241m=\u001b[39m\u001b[38;5;28mstr\u001b[39m(rms))\n",
      "File \u001b[0;32m/opt/conda/envs/Python-RT23.1/lib/python3.10/site-packages/sklearn/metrics/_regression.py:442\u001b[0m, in \u001b[0;36mmean_squared_error\u001b[0;34m(y_true, y_pred, sample_weight, multioutput, squared)\u001b[0m\n\u001b[1;32m    382\u001b[0m \u001b[38;5;28;01mdef\u001b[39;00m \u001b[38;5;21mmean_squared_error\u001b[39m(\n\u001b[1;32m    383\u001b[0m     y_true, y_pred, \u001b[38;5;241m*\u001b[39m, sample_weight\u001b[38;5;241m=\u001b[39m\u001b[38;5;28;01mNone\u001b[39;00m, multioutput\u001b[38;5;241m=\u001b[39m\u001b[38;5;124m\"\u001b[39m\u001b[38;5;124muniform_average\u001b[39m\u001b[38;5;124m\"\u001b[39m, squared\u001b[38;5;241m=\u001b[39m\u001b[38;5;28;01mTrue\u001b[39;00m\n\u001b[1;32m    384\u001b[0m ):\n\u001b[1;32m    385\u001b[0m \u001b[38;5;250m    \u001b[39m\u001b[38;5;124;03m\"\"\"Mean squared error regression loss.\u001b[39;00m\n\u001b[1;32m    386\u001b[0m \n\u001b[1;32m    387\u001b[0m \u001b[38;5;124;03m    Read more in the :ref:`User Guide <mean_squared_error>`.\u001b[39;00m\n\u001b[0;32m   (...)\u001b[0m\n\u001b[1;32m    440\u001b[0m \u001b[38;5;124;03m    0.825...\u001b[39;00m\n\u001b[1;32m    441\u001b[0m \u001b[38;5;124;03m    \"\"\"\u001b[39;00m\n\u001b[0;32m--> 442\u001b[0m     y_type, y_true, y_pred, multioutput \u001b[38;5;241m=\u001b[39m \u001b[43m_check_reg_targets\u001b[49m\u001b[43m(\u001b[49m\n\u001b[1;32m    443\u001b[0m \u001b[43m        \u001b[49m\u001b[43my_true\u001b[49m\u001b[43m,\u001b[49m\u001b[43m \u001b[49m\u001b[43my_pred\u001b[49m\u001b[43m,\u001b[49m\u001b[43m \u001b[49m\u001b[43mmultioutput\u001b[49m\n\u001b[1;32m    444\u001b[0m \u001b[43m    \u001b[49m\u001b[43m)\u001b[49m\n\u001b[1;32m    445\u001b[0m     check_consistent_length(y_true, y_pred, sample_weight)\n\u001b[1;32m    446\u001b[0m     output_errors \u001b[38;5;241m=\u001b[39m np\u001b[38;5;241m.\u001b[39maverage((y_true \u001b[38;5;241m-\u001b[39m y_pred) \u001b[38;5;241m*\u001b[39m\u001b[38;5;241m*\u001b[39m \u001b[38;5;241m2\u001b[39m, axis\u001b[38;5;241m=\u001b[39m\u001b[38;5;241m0\u001b[39m, weights\u001b[38;5;241m=\u001b[39msample_weight)\n",
      "File \u001b[0;32m/opt/conda/envs/Python-RT23.1/lib/python3.10/site-packages/sklearn/metrics/_regression.py:101\u001b[0m, in \u001b[0;36m_check_reg_targets\u001b[0;34m(y_true, y_pred, multioutput, dtype)\u001b[0m\n\u001b[1;32m     67\u001b[0m \u001b[38;5;250m\u001b[39m\u001b[38;5;124;03m\"\"\"Check that y_true and y_pred belong to the same regression task.\u001b[39;00m\n\u001b[1;32m     68\u001b[0m \n\u001b[1;32m     69\u001b[0m \u001b[38;5;124;03mParameters\u001b[39;00m\n\u001b[0;32m   (...)\u001b[0m\n\u001b[1;32m     98\u001b[0m \u001b[38;5;124;03m    correct keyword.\u001b[39;00m\n\u001b[1;32m     99\u001b[0m \u001b[38;5;124;03m\"\"\"\u001b[39;00m\n\u001b[1;32m    100\u001b[0m check_consistent_length(y_true, y_pred)\n\u001b[0;32m--> 101\u001b[0m y_true \u001b[38;5;241m=\u001b[39m \u001b[43mcheck_array\u001b[49m\u001b[43m(\u001b[49m\u001b[43my_true\u001b[49m\u001b[43m,\u001b[49m\u001b[43m \u001b[49m\u001b[43mensure_2d\u001b[49m\u001b[38;5;241;43m=\u001b[39;49m\u001b[38;5;28;43;01mFalse\u001b[39;49;00m\u001b[43m,\u001b[49m\u001b[43m \u001b[49m\u001b[43mdtype\u001b[49m\u001b[38;5;241;43m=\u001b[39;49m\u001b[43mdtype\u001b[49m\u001b[43m)\u001b[49m\n\u001b[1;32m    102\u001b[0m y_pred \u001b[38;5;241m=\u001b[39m check_array(y_pred, ensure_2d\u001b[38;5;241m=\u001b[39m\u001b[38;5;28;01mFalse\u001b[39;00m, dtype\u001b[38;5;241m=\u001b[39mdtype)\n\u001b[1;32m    104\u001b[0m \u001b[38;5;28;01mif\u001b[39;00m y_true\u001b[38;5;241m.\u001b[39mndim \u001b[38;5;241m==\u001b[39m \u001b[38;5;241m1\u001b[39m:\n",
      "File \u001b[0;32m/opt/conda/envs/Python-RT23.1/lib/python3.10/site-packages/sklearn/utils/validation.py:899\u001b[0m, in \u001b[0;36mcheck_array\u001b[0;34m(array, accept_sparse, accept_large_sparse, dtype, order, copy, force_all_finite, ensure_2d, allow_nd, ensure_min_samples, ensure_min_features, estimator, input_name)\u001b[0m\n\u001b[1;32m    893\u001b[0m         \u001b[38;5;28;01mraise\u001b[39;00m \u001b[38;5;167;01mValueError\u001b[39;00m(\n\u001b[1;32m    894\u001b[0m             \u001b[38;5;124m\"\u001b[39m\u001b[38;5;124mFound array with dim \u001b[39m\u001b[38;5;132;01m%d\u001b[39;00m\u001b[38;5;124m. \u001b[39m\u001b[38;5;132;01m%s\u001b[39;00m\u001b[38;5;124m expected <= 2.\u001b[39m\u001b[38;5;124m\"\u001b[39m\n\u001b[1;32m    895\u001b[0m             \u001b[38;5;241m%\u001b[39m (array\u001b[38;5;241m.\u001b[39mndim, estimator_name)\n\u001b[1;32m    896\u001b[0m         )\n\u001b[1;32m    898\u001b[0m     \u001b[38;5;28;01mif\u001b[39;00m force_all_finite:\n\u001b[0;32m--> 899\u001b[0m         \u001b[43m_assert_all_finite\u001b[49m\u001b[43m(\u001b[49m\n\u001b[1;32m    900\u001b[0m \u001b[43m            \u001b[49m\u001b[43marray\u001b[49m\u001b[43m,\u001b[49m\n\u001b[1;32m    901\u001b[0m \u001b[43m            \u001b[49m\u001b[43minput_name\u001b[49m\u001b[38;5;241;43m=\u001b[39;49m\u001b[43minput_name\u001b[49m\u001b[43m,\u001b[49m\n\u001b[1;32m    902\u001b[0m \u001b[43m            \u001b[49m\u001b[43mestimator_name\u001b[49m\u001b[38;5;241;43m=\u001b[39;49m\u001b[43mestimator_name\u001b[49m\u001b[43m,\u001b[49m\n\u001b[1;32m    903\u001b[0m \u001b[43m            \u001b[49m\u001b[43mallow_nan\u001b[49m\u001b[38;5;241;43m=\u001b[39;49m\u001b[43mforce_all_finite\u001b[49m\u001b[43m \u001b[49m\u001b[38;5;241;43m==\u001b[39;49m\u001b[43m \u001b[49m\u001b[38;5;124;43m\"\u001b[39;49m\u001b[38;5;124;43mallow-nan\u001b[39;49m\u001b[38;5;124;43m\"\u001b[39;49m\u001b[43m,\u001b[49m\n\u001b[1;32m    904\u001b[0m \u001b[43m        \u001b[49m\u001b[43m)\u001b[49m\n\u001b[1;32m    906\u001b[0m \u001b[38;5;28;01mif\u001b[39;00m ensure_min_samples \u001b[38;5;241m>\u001b[39m \u001b[38;5;241m0\u001b[39m:\n\u001b[1;32m    907\u001b[0m     n_samples \u001b[38;5;241m=\u001b[39m _num_samples(array)\n",
      "File \u001b[0;32m/opt/conda/envs/Python-RT23.1/lib/python3.10/site-packages/sklearn/utils/validation.py:146\u001b[0m, in \u001b[0;36m_assert_all_finite\u001b[0;34m(X, allow_nan, msg_dtype, estimator_name, input_name)\u001b[0m\n\u001b[1;32m    124\u001b[0m         \u001b[38;5;28;01mif\u001b[39;00m (\n\u001b[1;32m    125\u001b[0m             \u001b[38;5;129;01mnot\u001b[39;00m allow_nan\n\u001b[1;32m    126\u001b[0m             \u001b[38;5;129;01mand\u001b[39;00m estimator_name\n\u001b[0;32m   (...)\u001b[0m\n\u001b[1;32m    130\u001b[0m             \u001b[38;5;66;03m# Improve the error message on how to handle missing values in\u001b[39;00m\n\u001b[1;32m    131\u001b[0m             \u001b[38;5;66;03m# scikit-learn.\u001b[39;00m\n\u001b[1;32m    132\u001b[0m             msg_err \u001b[38;5;241m+\u001b[39m\u001b[38;5;241m=\u001b[39m (\n\u001b[1;32m    133\u001b[0m                 \u001b[38;5;124mf\u001b[39m\u001b[38;5;124m\"\u001b[39m\u001b[38;5;130;01m\\n\u001b[39;00m\u001b[38;5;132;01m{\u001b[39;00mestimator_name\u001b[38;5;132;01m}\u001b[39;00m\u001b[38;5;124m does not accept missing values\u001b[39m\u001b[38;5;124m\"\u001b[39m\n\u001b[1;32m    134\u001b[0m                 \u001b[38;5;124m\"\u001b[39m\u001b[38;5;124m encoded as NaN natively. For supervised learning, you might want\u001b[39m\u001b[38;5;124m\"\u001b[39m\n\u001b[0;32m   (...)\u001b[0m\n\u001b[1;32m    144\u001b[0m                 \u001b[38;5;124m\"\u001b[39m\u001b[38;5;124m#estimators-that-handle-nan-values\u001b[39m\u001b[38;5;124m\"\u001b[39m\n\u001b[1;32m    145\u001b[0m             )\n\u001b[0;32m--> 146\u001b[0m         \u001b[38;5;28;01mraise\u001b[39;00m \u001b[38;5;167;01mValueError\u001b[39;00m(msg_err)\n\u001b[1;32m    148\u001b[0m \u001b[38;5;66;03m# for object dtype data, we only check for NaNs (GH-13254)\u001b[39;00m\n\u001b[1;32m    149\u001b[0m \u001b[38;5;28;01melif\u001b[39;00m X\u001b[38;5;241m.\u001b[39mdtype \u001b[38;5;241m==\u001b[39m np\u001b[38;5;241m.\u001b[39mdtype(\u001b[38;5;124m\"\u001b[39m\u001b[38;5;124mobject\u001b[39m\u001b[38;5;124m\"\u001b[39m) \u001b[38;5;129;01mand\u001b[39;00m \u001b[38;5;129;01mnot\u001b[39;00m allow_nan:\n",
      "\u001b[0;31mValueError\u001b[0m: Input contains NaN."
     ]
    }
   ],
   "source": [
    "import sklearn\n",
    "one_day_out_predictions = compare_forecast(zs_forecast, \"date\", \"pm2.5_prediction\", \"pm2.5\", 12)\n",
    "print(one_day_out_predictions)\n",
    "rms = '{:.10f}'.format(sklearn.metrics.mean_squared_error(one_day_out_predictions['actual'], one_day_out_predictions['pred'], squared=False))\n",
    "one_day_out_predictions.plot(x=\"date\", y=[\"pred\", \"actual\"], figsize=(20,5), title=str(rms))"
   ]
  },
  {
   "cell_type": "code",
   "execution_count": 80,
   "metadata": {},
   "outputs": [],
   "source": [
    "# Important parameters\n",
    "learning_rate = 0.001\n",
    "num_epochs = 20\n",
    "batch_size = 32\n",
    "\n",
    "finetune_forecast_args = TrainingArguments(\n",
    "    output_dir=os.path.join(OUT_DIR, \"output\"),\n",
    "    overwrite_output_dir=True,\n",
    "    learning_rate=learning_rate,\n",
    "    num_train_epochs=num_epochs,\n",
    "    do_eval=True,\n",
    "    #evaluation_strategy=\"epoch\",\n",
    "    eval_strategy=\"epoch\",\n",
    "    per_device_train_batch_size=batch_size,\n",
    "    per_device_eval_batch_size=batch_size,\n",
    "    dataloader_num_workers=8,\n",
    "    save_strategy=\"epoch\",\n",
    "    logging_strategy=\"epoch\",\n",
    "    save_total_limit=1,\n",
    "    logging_dir=os.path.join(OUT_DIR, \"logs\"),  # Specify a logging directory\n",
    "    load_best_model_at_end=True,  # Load the best model when training ends\n",
    "    metric_for_best_model=\"eval_loss\",  # Metric to monitor for early stopping\n",
    "    greater_is_better=False,  # For loss\n",
    ")"
   ]
  },
  {
   "cell_type": "code",
   "execution_count": 81,
   "metadata": {},
   "outputs": [
    {
     "ename": "NameError",
     "evalue": "name 'finetune_forecast_model' is not defined",
     "output_type": "error",
     "traceback": [
      "\u001b[0;31m---------------------------------------------------------------------------\u001b[0m",
      "\u001b[0;31mNameError\u001b[0m                                 Traceback (most recent call last)",
      "Cell \u001b[0;32mIn[81], line 9\u001b[0m\n\u001b[1;32m      6\u001b[0m tracking_callback \u001b[38;5;241m=\u001b[39m TrackingCallback()\n\u001b[1;32m      8\u001b[0m \u001b[38;5;66;03m# Optimizer and scheduler\u001b[39;00m\n\u001b[0;32m----> 9\u001b[0m optimizer \u001b[38;5;241m=\u001b[39m AdamW(\u001b[43mfinetune_forecast_model\u001b[49m\u001b[38;5;241m.\u001b[39mparameters(), lr\u001b[38;5;241m=\u001b[39mlearning_rate)\n\u001b[1;32m     10\u001b[0m scheduler \u001b[38;5;241m=\u001b[39m OneCycleLR(\n\u001b[1;32m     11\u001b[0m     optimizer,\n\u001b[1;32m     12\u001b[0m     learning_rate,\n\u001b[1;32m     13\u001b[0m     epochs\u001b[38;5;241m=\u001b[39mnum_epochs,\n\u001b[1;32m     14\u001b[0m     steps_per_epoch\u001b[38;5;241m=\u001b[39mmath\u001b[38;5;241m.\u001b[39mceil(\u001b[38;5;28mlen\u001b[39m(train_dataset) \u001b[38;5;241m/\u001b[39m (batch_size)),\n\u001b[1;32m     15\u001b[0m )\n",
      "\u001b[0;31mNameError\u001b[0m: name 'finetune_forecast_model' is not defined"
     ]
    }
   ],
   "source": [
    "# Create the early stopping callback\n",
    "early_stopping_callback = EarlyStoppingCallback(\n",
    "    early_stopping_patience=2,  # Number of epochs with no improvement after which to stop\n",
    "    early_stopping_threshold=0.001,  # Minimum improvement required to consider as improvement\n",
    ")\n",
    "tracking_callback = TrackingCallback()\n",
    "\n",
    "# Optimizer and scheduler\n",
    "optimizer = AdamW(finetune_forecast_model.parameters(), lr=learning_rate)\n",
    "scheduler = OneCycleLR(\n",
    "    optimizer,\n",
    "    learning_rate,\n",
    "    epochs=num_epochs,\n",
    "    steps_per_epoch=math.ceil(len(train_dataset) / (batch_size)),\n",
    ")"
   ]
  },
  {
   "cell_type": "code",
   "execution_count": 82,
   "metadata": {},
   "outputs": [
    {
     "ename": "NameError",
     "evalue": "name 'finetune_forecast_model' is not defined",
     "output_type": "error",
     "traceback": [
      "\u001b[0;31m---------------------------------------------------------------------------\u001b[0m",
      "\u001b[0;31mNameError\u001b[0m                                 Traceback (most recent call last)",
      "Cell \u001b[0;32mIn[82], line 2\u001b[0m\n\u001b[1;32m      1\u001b[0m finetune_forecast_trainer \u001b[38;5;241m=\u001b[39m Trainer(\n\u001b[0;32m----> 2\u001b[0m     model\u001b[38;5;241m=\u001b[39m\u001b[43mfinetune_forecast_model\u001b[49m,\n\u001b[1;32m      3\u001b[0m     args\u001b[38;5;241m=\u001b[39mfinetune_forecast_args,\n\u001b[1;32m      4\u001b[0m     train_dataset\u001b[38;5;241m=\u001b[39mtrain_dataset,\n\u001b[1;32m      5\u001b[0m     eval_dataset\u001b[38;5;241m=\u001b[39mvalid_dataset,\n\u001b[1;32m      6\u001b[0m     callbacks\u001b[38;5;241m=\u001b[39m[early_stopping_callback, tracking_callback],\n\u001b[1;32m      7\u001b[0m     optimizers\u001b[38;5;241m=\u001b[39m(optimizer, scheduler),\n\u001b[1;32m      8\u001b[0m )\n\u001b[1;32m     10\u001b[0m \u001b[38;5;66;03m# Fine tune\u001b[39;00m\n\u001b[1;32m     11\u001b[0m finetune_forecast_trainer\u001b[38;5;241m.\u001b[39mtrain()\n",
      "\u001b[0;31mNameError\u001b[0m: name 'finetune_forecast_model' is not defined"
     ]
    }
   ],
   "source": [
    "finetune_forecast_trainer = Trainer(\n",
    "    model=finetune_forecast_model,\n",
    "    args=finetune_forecast_args,\n",
    "    train_dataset=train_dataset,\n",
    "    eval_dataset=valid_dataset,\n",
    "    callbacks=[early_stopping_callback, tracking_callback],\n",
    "    optimizers=(optimizer, scheduler),\n",
    ")\n",
    "\n",
    "# Fine tune\n",
    "finetune_forecast_trainer.train()"
   ]
  },
  {
   "cell_type": "code",
   "execution_count": 83,
   "metadata": {},
   "outputs": [
    {
     "ename": "NameError",
     "evalue": "name 'finetune_forecast_trainer' is not defined",
     "output_type": "error",
     "traceback": [
      "\u001b[0;31m---------------------------------------------------------------------------\u001b[0m",
      "\u001b[0;31mNameError\u001b[0m                                 Traceback (most recent call last)",
      "Cell \u001b[0;32mIn[83], line 1\u001b[0m\n\u001b[0;32m----> 1\u001b[0m \u001b[43mfinetune_forecast_trainer\u001b[49m\u001b[38;5;241m.\u001b[39mevaluate(test_dataset)\n",
      "\u001b[0;31mNameError\u001b[0m: name 'finetune_forecast_trainer' is not defined"
     ]
    }
   ],
   "source": [
    "finetune_forecast_trainer.evaluate(test_dataset) #note that this is the torch dataset, not a Pandas DataFrame"
   ]
  },
  {
   "cell_type": "code",
   "execution_count": 84,
   "metadata": {},
   "outputs": [
    {
     "ename": "NameError",
     "evalue": "name 'finetune_forecast_model' is not defined",
     "output_type": "error",
     "traceback": [
      "\u001b[0;31m---------------------------------------------------------------------------\u001b[0m",
      "\u001b[0;31mNameError\u001b[0m                                 Traceback (most recent call last)",
      "Cell \u001b[0;32mIn[84], line 2\u001b[0m\n\u001b[1;32m      1\u001b[0m forecast_pipeline \u001b[38;5;241m=\u001b[39m TimeSeriesForecastingPipeline(\n\u001b[0;32m----> 2\u001b[0m     model\u001b[38;5;241m=\u001b[39m\u001b[43mfinetune_forecast_model\u001b[49m,\n\u001b[1;32m      3\u001b[0m     device\u001b[38;5;241m=\u001b[39m\u001b[38;5;124m\"\u001b[39m\u001b[38;5;124mcpu\u001b[39m\u001b[38;5;124m\"\u001b[39m,\n\u001b[1;32m      4\u001b[0m     timestamp_column\u001b[38;5;241m=\u001b[39mtimestamp_column,\n\u001b[1;32m      5\u001b[0m     id_columns\u001b[38;5;241m=\u001b[39m[],\n\u001b[1;32m      6\u001b[0m     target_columns\u001b[38;5;241m=\u001b[39mtarget_columns,\n\u001b[1;32m      7\u001b[0m     observable_columns\u001b[38;5;241m=\u001b[39mobservable_columns,\n\u001b[1;32m      8\u001b[0m     freq\u001b[38;5;241m=\u001b[39m\u001b[38;5;124m\"\u001b[39m\u001b[38;5;124m1h\u001b[39m\u001b[38;5;124m\"\u001b[39m\n\u001b[1;32m      9\u001b[0m )\n\u001b[1;32m     11\u001b[0m forecasts \u001b[38;5;241m=\u001b[39m forecast_pipeline(test_data)\n\u001b[1;32m     13\u001b[0m fcast_df \u001b[38;5;241m=\u001b[39m pd\u001b[38;5;241m.\u001b[39mDataFrame({\u001b[38;5;124m\"\u001b[39m\u001b[38;5;124mpred\u001b[39m\u001b[38;5;124m\"\u001b[39m:forecasts\u001b[38;5;241m.\u001b[39mloc[\u001b[38;5;241m50\u001b[39m][\u001b[38;5;124m'\u001b[39m\u001b[38;5;124mpm2.5_prediction\u001b[39m\u001b[38;5;124m'\u001b[39m], \u001b[38;5;124m\"\u001b[39m\u001b[38;5;124mactual\u001b[39m\u001b[38;5;124m\"\u001b[39m:forecasts\u001b[38;5;241m.\u001b[39mloc[\u001b[38;5;241m50\u001b[39m][\u001b[38;5;124m'\u001b[39m\u001b[38;5;124mpm2.5\u001b[39m\u001b[38;5;124m'\u001b[39m][:\u001b[38;5;241m24\u001b[39m]})\n",
      "\u001b[0;31mNameError\u001b[0m: name 'finetune_forecast_model' is not defined"
     ]
    }
   ],
   "source": [
    "forecast_pipeline = TimeSeriesForecastingPipeline(\n",
    "    model=finetune_forecast_model,\n",
    "    device=\"cpu\",\n",
    "    timestamp_column=timestamp_column,\n",
    "    id_columns=[],\n",
    "    target_columns=target_columns,\n",
    "    observable_columns=observable_columns,\n",
    "    freq=\"1h\"\n",
    ")\n",
    "\n",
    "forecasts = forecast_pipeline(test_data)\n",
    "\n",
    "fcast_df = pd.DataFrame({\"pred\":forecasts.loc[50]['pm2.5_prediction'], \"actual\":forecasts.loc[50]['pm2.5'][:24]})\n",
    "fcast_df.plot()"
   ]
  },
  {
   "cell_type": "code",
   "execution_count": 86,
   "metadata": {},
   "outputs": [
    {
     "ename": "NameError",
     "evalue": "name 'forecasts' is not defined",
     "output_type": "error",
     "traceback": [
      "\u001b[0;31m---------------------------------------------------------------------------\u001b[0m",
      "\u001b[0;31mNameError\u001b[0m                                 Traceback (most recent call last)",
      "Cell \u001b[0;32mIn[86], line 1\u001b[0m\n\u001b[0;32m----> 1\u001b[0m one_day_out_predictions \u001b[38;5;241m=\u001b[39m compare_forecast(\u001b[43mforecasts\u001b[49m, \u001b[38;5;124m\"\u001b[39m\u001b[38;5;124mdate\u001b[39m\u001b[38;5;124m\"\u001b[39m, \u001b[38;5;124m\"\u001b[39m\u001b[38;5;124mpm2.5_prediction\u001b[39m\u001b[38;5;124m\"\u001b[39m, \u001b[38;5;124m\"\u001b[39m\u001b[38;5;124mpm2.5\u001b[39m\u001b[38;5;124m\"\u001b[39m, \u001b[38;5;241m12\u001b[39m)\n\u001b[1;32m      3\u001b[0m rms \u001b[38;5;241m=\u001b[39m \u001b[38;5;124m'\u001b[39m\u001b[38;5;132;01m{:.10f}\u001b[39;00m\u001b[38;5;124m'\u001b[39m\u001b[38;5;241m.\u001b[39mformat(mean_squared_error(one_day_out_predictions[\u001b[38;5;124m'\u001b[39m\u001b[38;5;124mactual\u001b[39m\u001b[38;5;124m'\u001b[39m], one_day_out_predictions[\u001b[38;5;124m'\u001b[39m\u001b[38;5;124mpred\u001b[39m\u001b[38;5;124m'\u001b[39m], squared\u001b[38;5;241m=\u001b[39m\u001b[38;5;28;01mFalse\u001b[39;00m))\n\u001b[1;32m      4\u001b[0m one_day_out_predictions\u001b[38;5;241m.\u001b[39mplot(x\u001b[38;5;241m=\u001b[39m\u001b[38;5;124m\"\u001b[39m\u001b[38;5;124mdate\u001b[39m\u001b[38;5;124m\"\u001b[39m, y\u001b[38;5;241m=\u001b[39m[\u001b[38;5;124m\"\u001b[39m\u001b[38;5;124mpred\u001b[39m\u001b[38;5;124m\"\u001b[39m, \u001b[38;5;124m\"\u001b[39m\u001b[38;5;124mactual\u001b[39m\u001b[38;5;124m\"\u001b[39m], figsize\u001b[38;5;241m=\u001b[39m(\u001b[38;5;241m20\u001b[39m,\u001b[38;5;241m5\u001b[39m), title\u001b[38;5;241m=\u001b[39m\u001b[38;5;124m\"\u001b[39m\u001b[38;5;124mRMSE:\u001b[39m\u001b[38;5;124m\"\u001b[39m \u001b[38;5;241m+\u001b[39m \u001b[38;5;28mstr\u001b[39m(rms))\n",
      "\u001b[0;31mNameError\u001b[0m: name 'forecasts' is not defined"
     ]
    }
   ],
   "source": [
    "one_day_out_predictions = compare_forecast(forecasts, \"date\", \"pm2.5_prediction\", \"pm2.5\", 12)\n",
    "\n",
    "rms = '{:.10f}'.format(mean_squared_error(one_day_out_predictions['actual'], one_day_out_predictions['pred'], squared=False))\n",
    "one_day_out_predictions.plot(x=\"date\", y=[\"pred\", \"actual\"], figsize=(20,5), title=\"RMSE:\" + str(rms))"
   ]
  },
  {
   "cell_type": "code",
   "execution_count": null,
   "metadata": {},
   "outputs": [],
   "source": []
  }
 ],
 "metadata": {
  "kernelspec": {
   "display_name": "Python 3.10",
   "language": "python",
   "name": "python3"
  },
  "language_info": {
   "codemirror_mode": {
    "name": "ipython",
    "version": 3
   },
   "file_extension": ".py",
   "mimetype": "text/x-python",
   "name": "python",
   "nbconvert_exporter": "python",
   "pygments_lexer": "ipython3",
   "version": "3.10.14"
  }
 },
 "nbformat": 4,
 "nbformat_minor": 1
}
